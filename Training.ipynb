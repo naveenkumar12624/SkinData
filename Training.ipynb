{
 "cells": [
  {
   "cell_type": "code",
   "execution_count": 1,
   "id": "a3a9b900",
   "metadata": {},
   "outputs": [],
   "source": [
    "import os\n",
    "import numpy as np\n",
    "import pandas as pd\n",
    "from tensorflow import keras\n",
    "from tensorflow.keras.models import Sequential\n",
    "from tensorflow.keras.layers import Conv2D, MaxPooling2D, Flatten, Dense\n",
    "from tensorflow.keras.preprocessing.image import ImageDataGenerator, load_img, img_to_array\n",
    "from tensorflow.keras.utils import to_categorical\n"
   ]
  },
  {
   "cell_type": "code",
   "execution_count": 2,
   "id": "32322f01",
   "metadata": {},
   "outputs": [
    {
     "name": "stdout",
     "output_type": "stream",
     "text": [
      "Found 11631 images belonging to 11 classes.\n"
     ]
    }
   ],
   "source": [
    "base_image_directory = 'C:/Users/lenovo/Downloads/SkinData'  # Path to the directory with images\n",
    "image_size = (128, 128)  # Set your desired image size\n",
    "\n",
    "# Load and preprocess images\n",
    "datagen = ImageDataGenerator(rescale=1./255)\n",
    "train_generator = datagen.flow_from_directory(\n",
    "    base_image_directory,\n",
    "    target_size=image_size,\n",
    "    batch_size=32,\n",
    "    class_mode='categorical',\n",
    "    shuffle=True\n",
    ")\n",
    "\n",
    "num_classes = len(train_generator.class_indices)\n"
   ]
  },
  {
   "cell_type": "code",
   "execution_count": 7,
   "id": "74763395",
   "metadata": {},
   "outputs": [
    {
     "name": "stdout",
     "output_type": "stream",
     "text": [
      "Epoch 1/10\n",
      "364/364 [==============================] - 415s 1s/step - loss: 1.1576 - accuracy: 0.6281\n",
      "Epoch 2/10\n",
      "364/364 [==============================] - 292s 801ms/step - loss: 0.9643 - accuracy: 0.6601\n",
      "Epoch 3/10\n",
      "364/364 [==============================] - 298s 817ms/step - loss: 0.8931 - accuracy: 0.6865\n",
      "Epoch 4/10\n",
      "364/364 [==============================] - 286s 785ms/step - loss: 0.8433 - accuracy: 0.7032\n",
      "Epoch 5/10\n",
      "364/364 [==============================] - 292s 802ms/step - loss: 0.7820 - accuracy: 0.7241\n",
      "Epoch 6/10\n",
      "364/364 [==============================] - 270s 740ms/step - loss: 0.7191 - accuracy: 0.7447\n",
      "Epoch 7/10\n",
      "364/364 [==============================] - 288s 790ms/step - loss: 0.6413 - accuracy: 0.7742\n",
      "Epoch 8/10\n",
      "364/364 [==============================] - 298s 819ms/step - loss: 0.5559 - accuracy: 0.8023\n",
      "Epoch 9/10\n",
      "364/364 [==============================] - 295s 808ms/step - loss: 0.4766 - accuracy: 0.8336\n",
      "Epoch 10/10\n",
      "364/364 [==============================] - 277s 761ms/step - loss: 0.3756 - accuracy: 0.8710\n"
     ]
    },
    {
     "data": {
      "text/plain": [
       "<keras.callbacks.History at 0x21e5e138370>"
      ]
     },
     "execution_count": 7,
     "metadata": {},
     "output_type": "execute_result"
    }
   ],
   "source": [
    "model = Sequential()\n",
    "model.add(Conv2D(32, (3, 3), activation='relu', input_shape=(image_size[0], image_size[1], 3)))\n",
    "model.add(MaxPooling2D(2, 2))\n",
    "model.add(Conv2D(64, (3, 3), activation='relu'))\n",
    "model.add(MaxPooling2D(2, 2))\n",
    "model.add(Flatten())\n",
    "model.add(Dense(128, activation='relu'))\n",
    "model.add(Dense(num_classes, activation='softmax'))\n",
    "\n",
    "model.compile(optimizer='adam', loss='categorical_crossentropy', metrics=['accuracy'])\n",
    "\n",
    "epochs = 10  # Set your desired number of training epochs\n",
    "model.fit(train_generator, epochs=epochs)\n"
   ]
  },
  {
   "cell_type": "code",
   "execution_count": 48,
   "id": "4712e42b",
   "metadata": {},
   "outputs": [
    {
     "name": "stdout",
     "output_type": "stream",
     "text": [
      "1/1 [==============================] - 0s 42ms/step\n",
      "The predicted disease may be nevus\n",
      "By the User Given Image,the Prediction Accuracy is: 65.51%\n",
      "\n",
      "Also the Probability of actinic keratosis: 11.47%\n",
      "Also the Probability of basal cell carcinoma: 17.49%\n",
      "Also the Probability of dermatofibroma: 0.00%\n",
      "Also the Probability of lichenoid keratosis: 0.00%\n",
      "Also the Probability of melanoma: 0.12%\n",
      "Also the Probability of nevus: 65.51%\n",
      "Also the Probability of pigmented benign keratosis: 0.01%\n",
      "Also the Probability of seborrheic keratosis: 0.13%\n",
      "Also the Probability of solar lentigo: 0.02%\n",
      "Also the Probability of squamous cell carcinoma: 5.25%\n",
      "Also the Probability of vascular lesion: 0.00%\n"
     ]
    }
   ],
   "source": [
    "image_path = \"G:/SkinData/1.jpg\"\n",
    "\n",
    "user_input_image = keras.preprocessing.image.load_img(image_path, target_size=image_size)\n",
    "user_input_image = keras.preprocessing.image.img_to_array(user_input_image) / 255.0\n",
    "user_input_image = np.expand_dims(user_input_image, axis=0)\n",
    "\n",
    "# Make a prediction\n",
    "prediction = model.predict(user_input_image)\n",
    "class_index = np.argmax(prediction)\n",
    "\n",
    "# Extract the class labels from class_indices\n",
    "class_labels = list(train_generator.class_indices.keys())\n",
    "\n",
    "# Access the predicted class label\n",
    "disease_label = class_labels[class_index]\n",
    "\n",
    "# Calculate the accuracy as a percentage\n",
    "accuracy_percentage = prediction[0][class_index] * 100\n",
    "\n",
    "# Display the predicted disease, accuracy, and other disease probabilities\n",
    "print(f\"The predicted disease may be {disease_label}\")\n",
    "print(f\"By the User Given Image,the Prediction Accuracy is: {accuracy_percentage:.2f}%\\n\")\n",
    "\n",
    "# Display the probabilities of other diseases\n",
    "for i, label in enumerate(class_labels):\n",
    "    probability = prediction[0][i] * 100\n",
    "    print(f\"Also the Probability of {label}: {probability:.2f}%\")\n"
   ]
  },
  {
   "cell_type": "code",
   "execution_count": null,
   "id": "c89af366",
   "metadata": {},
   "outputs": [],
   "source": []
  }
 ],
 "metadata": {
  "kernelspec": {
   "display_name": "Python 3 (ipykernel)",
   "language": "python",
   "name": "python3"
  },
  "language_info": {
   "codemirror_mode": {
    "name": "ipython",
    "version": 3
   },
   "file_extension": ".py",
   "mimetype": "text/x-python",
   "name": "python",
   "nbconvert_exporter": "python",
   "pygments_lexer": "ipython3",
   "version": "3.10.9"
  }
 },
 "nbformat": 4,
 "nbformat_minor": 5
}
